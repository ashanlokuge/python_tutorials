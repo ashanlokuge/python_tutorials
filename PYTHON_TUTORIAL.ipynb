{
  "nbformat": 4,
  "nbformat_minor": 0,
  "metadata": {
    "colab": {
      "provenance": [],
      "authorship_tag": "ABX9TyONZFrx+XZeEpBDL9qPGasr",
      "include_colab_link": true
    },
    "kernelspec": {
      "name": "python3",
      "display_name": "Python 3"
    },
    "language_info": {
      "name": "python"
    }
  },
  "cells": [
    {
      "cell_type": "markdown",
      "metadata": {
        "id": "view-in-github",
        "colab_type": "text"
      },
      "source": [
        "<a href=\"https://colab.research.google.com/github/ashanlokuge/python_tutorials/blob/main/PYTHON_TUTORIAL.ipynb\" target=\"_parent\"><img src=\"https://colab.research.google.com/assets/colab-badge.svg\" alt=\"Open In Colab\"/></a>"
      ]
    },
    {
      "cell_type": "markdown",
      "source": [
        "\n",
        "\n",
        "```\n",
        "# This is formatted as code\n",
        "```\n",
        "\n",
        "import random\n",
        "random_integer =random.randint(1,10)\n",
        "print(random_integer)"
      ],
      "metadata": {
        "id": "JV59egrezELU"
      }
    },
    {
      "cell_type": "code",
      "execution_count": null,
      "metadata": {
        "id": "hBraGXEssDew",
        "colab": {
          "base_uri": "https://localhost:8080/"
        },
        "outputId": "2104e981-23db-4326-98e6-b6627979fdcf"
      },
      "outputs": [
        {
          "output_type": "stream",
          "name": "stdout",
          "text": [
            "enter your choice? Type 0 for rock, type 1 for paper, type 2 for scissors0\n",
            "0\n",
            "2\n",
            "you win\n"
          ]
        }
      ],
      "source": [
        "## THIS IS ROCK PAPER SCISSOR GAME\n",
        "\n",
        "user_input= int(input(\"enter your choice? Type 0 for rock, type 1 for paper, type 2 for scissors\"))\n",
        "print(user_input)\n",
        "\n",
        "import random\n",
        "computer_input= random.randint(0,2)\n",
        "print(computer_input)\n",
        "\n",
        "if (user_input==0):\n",
        "    if (computer_input==0):\n",
        "        print(\"draw\")\n",
        "    elif (computer_input==1):\n",
        "        print(\"you lose\")\n",
        "    else:\n",
        "         print(\"you win\")\n",
        "\n",
        "\n",
        "elif (user_input==1):\n",
        "  if (computer_input==0):\n",
        "    print(\"you win\")\n",
        "  elif (computer_input==1):\n",
        "    print(\"draw\")\n",
        "  else:\n",
        "    print(\"you lose\")\n",
        "\n",
        "else:\n",
        "  if (computer_input==0):\n",
        "    print(\"you lose\")\n",
        "  elif (computer_input==1):\n",
        "    print(\"you win\")\n",
        "  else:\n",
        "    print(\"draw\")"
      ]
    },
    {
      "cell_type": "markdown",
      "source": [],
      "metadata": {
        "id": "eROquDoc4FIY"
      }
    },
    {
      "cell_type": "markdown",
      "source": [
        "# SHORT VERSION OF ROCK PAPER SCISSOR GAME\n",
        "\n",
        "---\n",
        "\n"
      ],
      "metadata": {
        "id": "7M8XQ9Bz34SC"
      }
    },
    {
      "cell_type": "code",
      "source": [
        "user_input= int(input(\"enter your choice? Type 0 for rock, type 1 for paper, type 2 for scissors\"))\n",
        "print(user_input)\n",
        "\n",
        "import random\n",
        "computer_input= random.randint(0,2)\n",
        "print(computer_input)\n",
        "\n",
        "if(user_input==computer_input):\n",
        "  print(\"draw\")\n",
        "elif(user_input==0 and computer_input==1):\n",
        "  print(\"you lose\")\n",
        "elif(user_input==1 and computer_input==0):\n",
        "  print(\"you win\")\n",
        "elif()\n"
      ],
      "metadata": {
        "id": "rgXPBCAt1ysN"
      },
      "execution_count": null,
      "outputs": []
    },
    {
      "cell_type": "code",
      "source": [
        "from pickle import TRUE\n",
        "marks_list={}\n",
        "marks_list={\n",
        "    \"imesh\":98,\n",
        "    \"kasun\":95,\n",
        "    \"nimesh\":94,\n",
        "    \"kusal\":90,\n",
        "    \"imesh\":88\n",
        "\n",
        "}\n",
        "print(marks_list)\n",
        "marks_list[\"chandima\"]=89\n",
        "print(marks_list)\n",
        "#marks_list={}\n",
        "#print(marks_list)\n",
        "print(marks_list[\"imesh\"])\n",
        "print(marks_list[\"kasun\"])\n",
        "marks_list[\"imesh\"]=99\n",
        "print(marks_list)\n",
        "marks_list[\"sasith\"]=86\n",
        "print(marks_list)\n",
        "marks_list[\"sasith\"]=88\n",
        "print(marks_list)\n",
        "print(len(marks_list))\n",
        "marks_list[\"ashan\"]=\"ashanlokuge10@gmail.com\"\n",
        "print(marks_list)\n",
        "marks_list[\"Is_single\"]=False\n",
        "print(marks_list)\n",
        "print(type(marks_list))\n",
        "\n",
        "new_town= dict(kasun=\"matara\",imesh=\"galle\")\n",
        "print(new_town)\n",
        "print(type(new_town))\n",
        "print(marks_list.keys())\n",
        "print(marks_list.values())\n",
        "if \"kusal\" in marks_list:\n",
        "  print(\"yes\")\n",
        "else:\n",
        "  print(\"no\")\n",
        "\n",
        "marks_list.pop(\"kusal\")\n",
        "print(marks_list)\n",
        "marks_list.popitem()\n",
        "print(marks_list)\n",
        "del marks_list[\"kasun\"]\n",
        "print(marks_list)\n",
        "#del marks_list\n",
        "#print(marks_list)\n",
        "#marks_list.clear()\n",
        "#print(marks_list)\n",
        "#marks_list={}\n",
        "#print(marks_list)\n",
        "#for x,y in marks_list.items():\n",
        " # print(x,y)\n",
        "#new_list=marks_list.copy()\n",
        "#print(new_list)\n",
        "new_list=dict(marks_list)\n",
        "print(new_list)"
      ],
      "metadata": {
        "colab": {
          "base_uri": "https://localhost:8080/"
        },
        "collapsed": true,
        "id": "dc-dMrQSoe69",
        "outputId": "1f3b6d37-9995-45d6-fc41-4f403d925d87"
      },
      "execution_count": null,
      "outputs": [
        {
          "output_type": "stream",
          "name": "stdout",
          "text": [
            "{'imesh': 88, 'kasun': 95, 'nimesh': 94, 'kusal': 90}\n",
            "{'imesh': 88, 'kasun': 95, 'nimesh': 94, 'kusal': 90, 'chandima': 89}\n",
            "88\n",
            "95\n",
            "{'imesh': 99, 'kasun': 95, 'nimesh': 94, 'kusal': 90, 'chandima': 89}\n",
            "{'imesh': 99, 'kasun': 95, 'nimesh': 94, 'kusal': 90, 'chandima': 89, 'sasith': 86}\n",
            "{'imesh': 99, 'kasun': 95, 'nimesh': 94, 'kusal': 90, 'chandima': 89, 'sasith': 88}\n",
            "6\n",
            "{'imesh': 99, 'kasun': 95, 'nimesh': 94, 'kusal': 90, 'chandima': 89, 'sasith': 88, 'ashan': 'ashanlokuge10@gmail.com'}\n",
            "{'imesh': 99, 'kasun': 95, 'nimesh': 94, 'kusal': 90, 'chandima': 89, 'sasith': 88, 'ashan': 'ashanlokuge10@gmail.com', 'Is_single': False}\n",
            "<class 'dict'>\n",
            "{'kasun': 'matara', 'imesh': 'galle'}\n",
            "<class 'dict'>\n",
            "dict_keys(['imesh', 'kasun', 'nimesh', 'kusal', 'chandima', 'sasith', 'ashan', 'Is_single'])\n",
            "dict_values([99, 95, 94, 90, 89, 88, 'ashanlokuge10@gmail.com', False])\n",
            "yes\n",
            "{'imesh': 99, 'kasun': 95, 'nimesh': 94, 'chandima': 89, 'sasith': 88, 'ashan': 'ashanlokuge10@gmail.com', 'Is_single': False}\n",
            "{'imesh': 99, 'kasun': 95, 'nimesh': 94, 'chandima': 89, 'sasith': 88, 'ashan': 'ashanlokuge10@gmail.com'}\n",
            "{'imesh': 99, 'nimesh': 94, 'chandima': 89, 'sasith': 88, 'ashan': 'ashanlokuge10@gmail.com'}\n",
            "{'imesh': 99, 'nimesh': 94, 'chandima': 89, 'sasith': 88, 'ashan': 'ashanlokuge10@gmail.com'}\n"
          ]
        }
      ]
    },
    {
      "cell_type": "code",
      "source": [
        "imesh={\n",
        "    \"maths\":85,\n",
        "    \"sinhala\":45,\n",
        "}\n",
        "nimesh={\n",
        "    \"science\":75,\n",
        "    \"english\":78,\n",
        "}\n",
        "kusal={\n",
        "    \"english\":98,\n",
        "    \"maths\":95,\n",
        "\n",
        "}\n",
        "print(imesh)\n",
        "print(nimesh)\n",
        "print(kusal)\n",
        "\n",
        "students={\n",
        "    \"imesh\":imesh,\n",
        "    \"nimesh\":nimesh,\n",
        "    \"kusal\":kusal,\n",
        "}\n",
        "print(students)\n",
        "print(students[\"imesh\"])\n",
        "print(students[\"imesh\"][\"maths\"])\n"
      ],
      "metadata": {
        "colab": {
          "base_uri": "https://localhost:8080/"
        },
        "id": "lE1lMjWv2pll",
        "outputId": "6c9ffc59-17ab-4c70-c901-a378bc7a2936"
      },
      "execution_count": null,
      "outputs": [
        {
          "output_type": "stream",
          "name": "stdout",
          "text": [
            "{'maths': 85, 'sinhala': 45}\n",
            "{'science': 75, 'english': 78}\n",
            "{'english': 98, 'maths': 95}\n",
            "{'imesh': {'maths': 85, 'sinhala': 45}, 'nimesh': {'science': 75, 'english': 78}, 'kusal': {'english': 98, 'maths': 95}}\n",
            "{'maths': 85, 'sinhala': 45}\n",
            "85\n"
          ]
        }
      ]
    },
    {
      "cell_type": "code",
      "source": [
        "print(\"welcome to the secret auction program\")\n",
        "bid_details={}\n",
        "max_bid=0\n",
        "game=input(\"are there any other bidders? type yes or no.\")\n",
        "while(game==\"yes\"):\n",
        "  name=input(\"what is your name:\")\n",
        "  bid=int(input(\"what is your bid:\"))\n",
        "  bid_details[name]=bid\n",
        "  if(bid>max_bid):\n",
        "    max_bid=bid\n",
        "    winner=name\n",
        "  clear()\n",
        "  game=input(\"are there any other bidders? type yes or no.\")\n",
        "print(\"game close\")\n",
        "print(bid_details)\n",
        "print(f\"the winner is {winner} with a bid of {max_bid}\")"
      ],
      "metadata": {
        "colab": {
          "base_uri": "https://localhost:8080/",
          "height": 290
        },
        "id": "7oQ4spFNIY-e",
        "outputId": "86f75f32-30df-4527-d78e-bd1a706c6c07"
      },
      "execution_count": null,
      "outputs": [
        {
          "name": "stdout",
          "output_type": "stream",
          "text": [
            "welcome to the secret auction program\n",
            "are there any other bidders? type yes or no.yes\n",
            "what is your name:kusal\n",
            "what is your bid:14\n"
          ]
        },
        {
          "output_type": "error",
          "ename": "NameError",
          "evalue": "name 'clear' is not defined",
          "traceback": [
            "\u001b[0;31m---------------------------------------------------------------------------\u001b[0m",
            "\u001b[0;31mNameError\u001b[0m                                 Traceback (most recent call last)",
            "\u001b[0;32m<ipython-input-7-ce2354b22f5f>\u001b[0m in \u001b[0;36m<cell line: 5>\u001b[0;34m()\u001b[0m\n\u001b[1;32m     10\u001b[0m     \u001b[0mmax_bid\u001b[0m\u001b[0;34m=\u001b[0m\u001b[0mbid\u001b[0m\u001b[0;34m\u001b[0m\u001b[0;34m\u001b[0m\u001b[0m\n\u001b[1;32m     11\u001b[0m     \u001b[0mwinner\u001b[0m\u001b[0;34m=\u001b[0m\u001b[0mname\u001b[0m\u001b[0;34m\u001b[0m\u001b[0;34m\u001b[0m\u001b[0m\n\u001b[0;32m---> 12\u001b[0;31m   \u001b[0mclear\u001b[0m\u001b[0;34m(\u001b[0m\u001b[0;34m)\u001b[0m\u001b[0;34m\u001b[0m\u001b[0;34m\u001b[0m\u001b[0m\n\u001b[0m\u001b[1;32m     13\u001b[0m   \u001b[0mgame\u001b[0m\u001b[0;34m=\u001b[0m\u001b[0minput\u001b[0m\u001b[0;34m(\u001b[0m\u001b[0;34m\"are there any other bidders? type yes or no.\"\u001b[0m\u001b[0;34m)\u001b[0m\u001b[0;34m\u001b[0m\u001b[0;34m\u001b[0m\u001b[0m\n\u001b[1;32m     14\u001b[0m \u001b[0mprint\u001b[0m\u001b[0;34m(\u001b[0m\u001b[0;34m\"game close\"\u001b[0m\u001b[0;34m)\u001b[0m\u001b[0;34m\u001b[0m\u001b[0;34m\u001b[0m\u001b[0m\n",
            "\u001b[0;31mNameError\u001b[0m: name 'clear' is not defined"
          ]
        }
      ]
    },
    {
      "cell_type": "code",
      "source": [
        "def full_name(f_name,l_name):\n",
        "  f_n_name=f_name[0].upper()+f_name[1:].lower()\n",
        "  l_n_name=l_name[0].upper()+l_name[1:].lower()\n",
        "  return (f\"{f_n_name} {l_n_name}\")\n",
        "\n",
        "\n",
        "\n"
      ],
      "metadata": {
        "colab": {
          "base_uri": "https://localhost:8080/",
          "height": 200
        },
        "id": "0ZTvRpRBtAYS",
        "outputId": "9575b79d-4b3a-4527-f074-6a4a28cf83d4"
      },
      "execution_count": null,
      "outputs": [
        {
          "output_type": "error",
          "ename": "NameError",
          "evalue": "name 'Ashan' is not defined",
          "traceback": [
            "\u001b[0;31m---------------------------------------------------------------------------\u001b[0m",
            "\u001b[0;31mNameError\u001b[0m                                 Traceback (most recent call last)",
            "\u001b[0;32m<ipython-input-6-9976136c96d6>\u001b[0m in \u001b[0;36m<cell line: 7>\u001b[0;34m()\u001b[0m\n\u001b[1;32m      5\u001b[0m \u001b[0;34m\u001b[0m\u001b[0m\n\u001b[1;32m      6\u001b[0m \u001b[0;34m\u001b[0m\u001b[0m\n\u001b[0;32m----> 7\u001b[0;31m \u001b[0mfull_name\u001b[0m\u001b[0;34m(\u001b[0m\u001b[0mAshan\u001b[0m\u001b[0;34m,\u001b[0m\u001b[0mLokuge\u001b[0m\u001b[0;34m)\u001b[0m\u001b[0;34m\u001b[0m\u001b[0;34m\u001b[0m\u001b[0m\n\u001b[0m\u001b[1;32m      8\u001b[0m \u001b[0;34m\u001b[0m\u001b[0m\n",
            "\u001b[0;31mNameError\u001b[0m: name 'Ashan' is not defined"
          ]
        }
      ]
    },
    {
      "cell_type": "code",
      "source": [
        "full_name(\"aSHAN \",\"lOKUGE\")\n"
      ],
      "metadata": {
        "colab": {
          "base_uri": "https://localhost:8080/",
          "height": 36
        },
        "id": "_K6PubOnvvFF",
        "outputId": "6cb7e82c-835b-45dd-d72b-e6371afe7657"
      },
      "execution_count": null,
      "outputs": [
        {
          "output_type": "execute_result",
          "data": {
            "text/plain": [
              "'Ashan  Lokuge'"
            ],
            "application/vnd.google.colaboratory.intrinsic+json": {
              "type": "string"
            }
          },
          "metadata": {},
          "execution_count": 9
        }
      ]
    },
    {
      "cell_type": "markdown",
      "source": [
        "SIMPLE METHOD OF TITLE CASE STRING"
      ],
      "metadata": {
        "id": "Nxi83XmbxJNg"
      }
    },
    {
      "cell_type": "code",
      "source": [
        "def full_name(f_name,l_name):\n",
        "  \"\"\"enter your first name and last name\"\"\"\n",
        "  if f_name==\" \" or l_name==\"\":\n",
        "    return \"you didn't provide valid inputs\"\n",
        "  new_f=f_name.title()\n",
        "  last_f=l_name.title()\n",
        "  return(f\"{new_f} {last_f}\")\n",
        "\n",
        "\"\"\"this is our\n",
        "first comment\n",
        "new line\"\"\"\n",
        "\n"
      ],
      "metadata": {
        "id": "H3Ah6Bf6xISj",
        "colab": {
          "base_uri": "https://localhost:8080/",
          "height": 36
        },
        "outputId": "de88c739-f9d2-49ed-f2fb-d17c5b1f06d0"
      },
      "execution_count": null,
      "outputs": [
        {
          "output_type": "execute_result",
          "data": {
            "text/plain": [
              "'this is our \\nfirst comment\\nnew line'"
            ],
            "application/vnd.google.colaboratory.intrinsic+json": {
              "type": "string"
            }
          },
          "metadata": {},
          "execution_count": 2
        }
      ]
    },
    {
      "cell_type": "code",
      "source": [
        "full_name()"
      ],
      "metadata": {
        "colab": {
          "base_uri": "https://localhost:8080/",
          "height": 36
        },
        "id": "HixU7o4xxrdM",
        "outputId": "30214074-ff02-4ff7-e432-e6c4b267e5eb"
      },
      "execution_count": null,
      "outputs": [
        {
          "output_type": "execute_result",
          "data": {
            "text/plain": [
              "'Ashan Lokuge'"
            ],
            "application/vnd.google.colaboratory.intrinsic+json": {
              "type": "string"
            }
          },
          "metadata": {},
          "execution_count": 15
        }
      ]
    },
    {
      "cell_type": "code",
      "source": [
        "(full_name(input(\"enter your first name\"),input(\"enter your second name\")))"
      ],
      "metadata": {
        "colab": {
          "base_uri": "https://localhost:8080/",
          "height": 72
        },
        "id": "qlF3sP68yQEj",
        "outputId": "bea7b422-aed3-45e2-8f67-ac68b911e6b6"
      },
      "execution_count": null,
      "outputs": [
        {
          "name": "stdout",
          "output_type": "stream",
          "text": [
            "enter your first nameimesh\n",
            "enter your second nameashan\n"
          ]
        },
        {
          "output_type": "execute_result",
          "data": {
            "text/plain": [
              "'Imesh Ashan'"
            ],
            "application/vnd.google.colaboratory.intrinsic+json": {
              "type": "string"
            }
          },
          "metadata": {},
          "execution_count": 33
        }
      ]
    },
    {
      "cell_type": "markdown",
      "source": [
        "Find the Is Leap Year and get the number of dates"
      ],
      "metadata": {
        "id": "nw_z9HdG6c87"
      }
    },
    {
      "cell_type": "markdown",
      "source": [],
      "metadata": {
        "id": "kic_E3hC6kGt"
      }
    },
    {
      "cell_type": "code",
      "source": [
        "def is_leap(year):\n",
        "  if(year%4==0):\n",
        "    if(year%100==0):\n",
        "      if(year%400==0):\n",
        "        return True\n",
        "      else:\n",
        "        return False\n",
        "    else:\n",
        "      return True\n",
        "  else:\n",
        "    return False"
      ],
      "metadata": {
        "id": "N0wg32fV5neO"
      },
      "execution_count": null,
      "outputs": []
    },
    {
      "cell_type": "code",
      "source": [
        "is_leap(2022)"
      ],
      "metadata": {
        "colab": {
          "base_uri": "https://localhost:8080/"
        },
        "id": "-O2l8QcOPXIY",
        "outputId": "cb140dab-2d1d-4239-83bf-7347096a2466"
      },
      "execution_count": null,
      "outputs": [
        {
          "output_type": "execute_result",
          "data": {
            "text/plain": [
              "False"
            ]
          },
          "metadata": {},
          "execution_count": 4
        }
      ]
    },
    {
      "cell_type": "code",
      "source": [
        "def days_in_month(year,month):\n",
        "  month_days=[31,28,31,30,31,30,31,31,30,31,30,31]\n",
        "  if is_leap(year)==True:\n",
        "     if month==2:\n",
        "      return 29\n",
        "     else:\n",
        "      return month_days[month-1]\n",
        "  else:\n",
        "    return month_days[month-1]"
      ],
      "metadata": {
        "id": "brEn3flsQ1yt"
      },
      "execution_count": null,
      "outputs": []
    },
    {
      "cell_type": "code",
      "source": [
        "days_in_month(1990,2)"
      ],
      "metadata": {
        "colab": {
          "base_uri": "https://localhost:8080/"
        },
        "id": "uzhvNJrLShWO",
        "outputId": "f5ca7b48-5599-479d-e3f8-e9991e342bcd"
      },
      "execution_count": null,
      "outputs": [
        {
          "output_type": "execute_result",
          "data": {
            "text/plain": [
              "28"
            ]
          },
          "metadata": {},
          "execution_count": 9
        }
      ]
    },
    {
      "cell_type": "markdown",
      "source": [
        "**Building Calculator**"
      ],
      "metadata": {
        "id": "3j_HC_7pm_Gh"
      }
    },
    {
      "cell_type": "code",
      "source": [
        "def add(num1,num2):\n",
        "  return num1+num2\n",
        "\n",
        "def substract(num1,num2):\n",
        "  return num1-num2\n",
        "\n",
        "def multiply(num1,num2):\n",
        "  return num1*num2\n",
        "\n",
        "def divide(num1,num2):\n",
        "  return num1/num2\n",
        "\n",
        "operations={\n",
        "              \"+\":add,\n",
        "              \"-\":substract,\n",
        "              \"*\":multiply,\n",
        "              \"/\":divide\n",
        "          }\n",
        "\n",
        "num1=int(input(\"enter your first number\"))\n",
        "num2=int(input(\"enter your second number\"))\n",
        "for x in operations:\n",
        "  print(x)\n",
        "\n",
        "operation_symbol=input(\"pick an operation from the line above: \")\n",
        "function=operations[operation_symbol]\n",
        "answer=function(num1,num2)\n",
        "print(f\"{num1} {operation_symbol} {num2} = {answer}\")"
      ],
      "metadata": {
        "colab": {
          "base_uri": "https://localhost:8080/",
          "height": 254
        },
        "id": "NsXT1NA_nAIy",
        "outputId": "785261d8-ec4e-45df-b3d2-2194fe370ca4"
      },
      "execution_count": null,
      "outputs": [
        {
          "name": "stdout",
          "output_type": "stream",
          "text": [
            "enter your first number400\n",
            "enter your second number25.4\n"
          ]
        },
        {
          "output_type": "error",
          "ename": "ValueError",
          "evalue": "invalid literal for int() with base 10: '25.4'",
          "traceback": [
            "\u001b[0;31m---------------------------------------------------------------------------\u001b[0m",
            "\u001b[0;31mValueError\u001b[0m                                Traceback (most recent call last)",
            "\u001b[0;32m<ipython-input-10-1d859db2bbe7>\u001b[0m in \u001b[0;36m<cell line: 21>\u001b[0;34m()\u001b[0m\n\u001b[1;32m     19\u001b[0m \u001b[0;34m\u001b[0m\u001b[0m\n\u001b[1;32m     20\u001b[0m \u001b[0mnum1\u001b[0m\u001b[0;34m=\u001b[0m\u001b[0mint\u001b[0m\u001b[0;34m(\u001b[0m\u001b[0minput\u001b[0m\u001b[0;34m(\u001b[0m\u001b[0;34m\"enter your first number\"\u001b[0m\u001b[0;34m)\u001b[0m\u001b[0;34m)\u001b[0m\u001b[0;34m\u001b[0m\u001b[0;34m\u001b[0m\u001b[0m\n\u001b[0;32m---> 21\u001b[0;31m \u001b[0mnum2\u001b[0m\u001b[0;34m=\u001b[0m\u001b[0mint\u001b[0m\u001b[0;34m(\u001b[0m\u001b[0minput\u001b[0m\u001b[0;34m(\u001b[0m\u001b[0;34m\"enter your second number\"\u001b[0m\u001b[0;34m)\u001b[0m\u001b[0;34m)\u001b[0m\u001b[0;34m\u001b[0m\u001b[0;34m\u001b[0m\u001b[0m\n\u001b[0m\u001b[1;32m     22\u001b[0m \u001b[0;32mfor\u001b[0m \u001b[0mx\u001b[0m \u001b[0;32min\u001b[0m \u001b[0moperations\u001b[0m\u001b[0;34m:\u001b[0m\u001b[0;34m\u001b[0m\u001b[0;34m\u001b[0m\u001b[0m\n\u001b[1;32m     23\u001b[0m   \u001b[0mprint\u001b[0m\u001b[0;34m(\u001b[0m\u001b[0mx\u001b[0m\u001b[0;34m)\u001b[0m\u001b[0;34m\u001b[0m\u001b[0;34m\u001b[0m\u001b[0m\n",
            "\u001b[0;31mValueError\u001b[0m: invalid literal for int() with base 10: '25.4'"
          ]
        }
      ]
    },
    {
      "cell_type": "code",
      "source": [],
      "metadata": {
        "id": "J54UIzGJm-se"
      },
      "execution_count": null,
      "outputs": []
    }
  ]
}