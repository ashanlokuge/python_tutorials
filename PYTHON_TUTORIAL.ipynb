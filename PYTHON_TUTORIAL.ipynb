{
  "cells": [
    {
      "cell_type": "markdown",
      "metadata": {
        "id": "view-in-github",
        "colab_type": "text"
      },
      "source": [
        "<a href=\"https://colab.research.google.com/github/ashanlokuge/python_tutorials/blob/main/PYTHON_TUTORIAL.ipynb\" target=\"_parent\"><img src=\"https://colab.research.google.com/assets/colab-badge.svg\" alt=\"Open In Colab\"/></a>"
      ]
    },
    {
      "cell_type": "markdown",
      "metadata": {
        "id": "JV59egrezELU"
      },
      "source": [
        "\n",
        "\n",
        "```\n",
        "# This is formatted as code\n",
        "```\n",
        "\n",
        "import random\n",
        "random_integer =random.randint(1,10)\n",
        "print(random_integer)"
      ]
    },
    {
      "cell_type": "code",
      "execution_count": null,
      "metadata": {
        "colab": {
          "base_uri": "https://localhost:8080/"
        },
        "id": "hBraGXEssDew",
        "outputId": "2104e981-23db-4326-98e6-b6627979fdcf"
      },
      "outputs": [
        {
          "name": "stdout",
          "output_type": "stream",
          "text": [
            "enter your choice? Type 0 for rock, type 1 for paper, type 2 for scissors0\n",
            "0\n",
            "2\n",
            "you win\n"
          ]
        }
      ],
      "source": [
        "## THIS IS ROCK PAPER SCISSOR GAME\n",
        "\n",
        "user_input= int(input(\"enter your choice? Type 0 for rock, type 1 for paper, type 2 for scissors\"))\n",
        "print(user_input)\n",
        "\n",
        "import random\n",
        "computer_input= random.randint(0,2)\n",
        "print(computer_input)\n",
        "\n",
        "if (user_input==0):\n",
        "    if (computer_input==0):\n",
        "        print(\"draw\")\n",
        "    elif (computer_input==1):\n",
        "        print(\"you lose\")\n",
        "    else:\n",
        "         print(\"you win\")\n",
        "\n",
        "\n",
        "elif (user_input==1):\n",
        "  if (computer_input==0):\n",
        "    print(\"you win\")\n",
        "  elif (computer_input==1):\n",
        "    print(\"draw\")\n",
        "  else:\n",
        "    print(\"you lose\")\n",
        "\n",
        "else:\n",
        "  if (computer_input==0):\n",
        "    print(\"you lose\")\n",
        "  elif (computer_input==1):\n",
        "    print(\"you win\")\n",
        "  else:\n",
        "    print(\"draw\")"
      ]
    },
    {
      "cell_type": "markdown",
      "metadata": {
        "id": "eROquDoc4FIY"
      },
      "source": []
    },
    {
      "cell_type": "markdown",
      "metadata": {
        "id": "7M8XQ9Bz34SC"
      },
      "source": [
        "# SHORT VERSION OF ROCK PAPER SCISSOR GAME\n",
        "\n",
        "---\n",
        "\n"
      ]
    },
    {
      "cell_type": "code",
      "execution_count": null,
      "metadata": {
        "id": "rgXPBCAt1ysN"
      },
      "outputs": [],
      "source": [
        "user_input= int(input(\"enter your choice? Type 0 for rock, type 1 for paper, type 2 for scissors\"))\n",
        "print(user_input)\n",
        "\n",
        "import random\n",
        "computer_input= random.randint(0,2)\n",
        "print(computer_input)\n",
        "\n",
        "if(user_input==computer_input):\n",
        "  print(\"draw\")\n",
        "elif(user_input==0 and computer_input==1):\n",
        "  print(\"you lose\")\n",
        "elif(user_input==1 and computer_input==0):\n",
        "  print(\"you win\")\n",
        "elif()\n"
      ]
    },
    {
      "cell_type": "code",
      "execution_count": null,
      "metadata": {
        "colab": {
          "base_uri": "https://localhost:8080/"
        },
        "collapsed": true,
        "id": "dc-dMrQSoe69",
        "outputId": "1f3b6d37-9995-45d6-fc41-4f403d925d87"
      },
      "outputs": [
        {
          "name": "stdout",
          "output_type": "stream",
          "text": [
            "{'imesh': 88, 'kasun': 95, 'nimesh': 94, 'kusal': 90}\n",
            "{'imesh': 88, 'kasun': 95, 'nimesh': 94, 'kusal': 90, 'chandima': 89}\n",
            "88\n",
            "95\n",
            "{'imesh': 99, 'kasun': 95, 'nimesh': 94, 'kusal': 90, 'chandima': 89}\n",
            "{'imesh': 99, 'kasun': 95, 'nimesh': 94, 'kusal': 90, 'chandima': 89, 'sasith': 86}\n",
            "{'imesh': 99, 'kasun': 95, 'nimesh': 94, 'kusal': 90, 'chandima': 89, 'sasith': 88}\n",
            "6\n",
            "{'imesh': 99, 'kasun': 95, 'nimesh': 94, 'kusal': 90, 'chandima': 89, 'sasith': 88, 'ashan': 'ashanlokuge10@gmail.com'}\n",
            "{'imesh': 99, 'kasun': 95, 'nimesh': 94, 'kusal': 90, 'chandima': 89, 'sasith': 88, 'ashan': 'ashanlokuge10@gmail.com', 'Is_single': False}\n",
            "<class 'dict'>\n",
            "{'kasun': 'matara', 'imesh': 'galle'}\n",
            "<class 'dict'>\n",
            "dict_keys(['imesh', 'kasun', 'nimesh', 'kusal', 'chandima', 'sasith', 'ashan', 'Is_single'])\n",
            "dict_values([99, 95, 94, 90, 89, 88, 'ashanlokuge10@gmail.com', False])\n",
            "yes\n",
            "{'imesh': 99, 'kasun': 95, 'nimesh': 94, 'chandima': 89, 'sasith': 88, 'ashan': 'ashanlokuge10@gmail.com', 'Is_single': False}\n",
            "{'imesh': 99, 'kasun': 95, 'nimesh': 94, 'chandima': 89, 'sasith': 88, 'ashan': 'ashanlokuge10@gmail.com'}\n",
            "{'imesh': 99, 'nimesh': 94, 'chandima': 89, 'sasith': 88, 'ashan': 'ashanlokuge10@gmail.com'}\n",
            "{'imesh': 99, 'nimesh': 94, 'chandima': 89, 'sasith': 88, 'ashan': 'ashanlokuge10@gmail.com'}\n"
          ]
        }
      ],
      "source": [
        "from pickle import TRUE\n",
        "marks_list={}\n",
        "marks_list={\n",
        "    \"imesh\":98,\n",
        "    \"kasun\":95,\n",
        "    \"nimesh\":94,\n",
        "    \"kusal\":90,\n",
        "    \"imesh\":88\n",
        "\n",
        "}\n",
        "print(marks_list)\n",
        "marks_list[\"chandima\"]=89\n",
        "print(marks_list)\n",
        "#marks_list={}\n",
        "#print(marks_list)\n",
        "print(marks_list[\"imesh\"])\n",
        "print(marks_list[\"kasun\"])\n",
        "marks_list[\"imesh\"]=99\n",
        "print(marks_list)\n",
        "marks_list[\"sasith\"]=86\n",
        "print(marks_list)\n",
        "marks_list[\"sasith\"]=88\n",
        "print(marks_list)\n",
        "print(len(marks_list))\n",
        "marks_list[\"ashan\"]=\"ashanlokuge10@gmail.com\"\n",
        "print(marks_list)\n",
        "marks_list[\"Is_single\"]=False\n",
        "print(marks_list)\n",
        "print(type(marks_list))\n",
        "\n",
        "new_town= dict(kasun=\"matara\",imesh=\"galle\")\n",
        "print(new_town)\n",
        "print(type(new_town))\n",
        "print(marks_list.keys())\n",
        "print(marks_list.values())\n",
        "if \"kusal\" in marks_list:\n",
        "  print(\"yes\")\n",
        "else:\n",
        "  print(\"no\")\n",
        "\n",
        "marks_list.pop(\"kusal\")\n",
        "print(marks_list)\n",
        "marks_list.popitem()\n",
        "print(marks_list)\n",
        "del marks_list[\"kasun\"]\n",
        "print(marks_list)\n",
        "#del marks_list\n",
        "#print(marks_list)\n",
        "#marks_list.clear()\n",
        "#print(marks_list)\n",
        "#marks_list={}\n",
        "#print(marks_list)\n",
        "#for x,y in marks_list.items():\n",
        " # print(x,y)\n",
        "#new_list=marks_list.copy()\n",
        "#print(new_list)\n",
        "new_list=dict(marks_list)\n",
        "print(new_list)"
      ]
    },
    {
      "cell_type": "code",
      "execution_count": null,
      "metadata": {
        "colab": {
          "base_uri": "https://localhost:8080/"
        },
        "id": "lE1lMjWv2pll",
        "outputId": "6c9ffc59-17ab-4c70-c901-a378bc7a2936"
      },
      "outputs": [
        {
          "name": "stdout",
          "output_type": "stream",
          "text": [
            "{'maths': 85, 'sinhala': 45}\n",
            "{'science': 75, 'english': 78}\n",
            "{'english': 98, 'maths': 95}\n",
            "{'imesh': {'maths': 85, 'sinhala': 45}, 'nimesh': {'science': 75, 'english': 78}, 'kusal': {'english': 98, 'maths': 95}}\n",
            "{'maths': 85, 'sinhala': 45}\n",
            "85\n"
          ]
        }
      ],
      "source": [
        "imesh={\n",
        "    \"maths\":85,\n",
        "    \"sinhala\":45,\n",
        "}\n",
        "nimesh={\n",
        "    \"science\":75,\n",
        "    \"english\":78,\n",
        "}\n",
        "kusal={\n",
        "    \"english\":98,\n",
        "    \"maths\":95,\n",
        "\n",
        "}\n",
        "print(imesh)\n",
        "print(nimesh)\n",
        "print(kusal)\n",
        "\n",
        "students={\n",
        "    \"imesh\":imesh,\n",
        "    \"nimesh\":nimesh,\n",
        "    \"kusal\":kusal,\n",
        "}\n",
        "print(students)\n",
        "print(students[\"imesh\"])\n",
        "print(students[\"imesh\"][\"maths\"])\n"
      ]
    },
    {
      "cell_type": "code",
      "execution_count": null,
      "metadata": {
        "colab": {
          "base_uri": "https://localhost:8080/",
          "height": 290
        },
        "id": "7oQ4spFNIY-e",
        "outputId": "86f75f32-30df-4527-d78e-bd1a706c6c07"
      },
      "outputs": [
        {
          "name": "stdout",
          "output_type": "stream",
          "text": [
            "welcome to the secret auction program\n",
            "are there any other bidders? type yes or no.yes\n",
            "what is your name:kusal\n",
            "what is your bid:14\n"
          ]
        },
        {
          "ename": "NameError",
          "evalue": "name 'clear' is not defined",
          "output_type": "error",
          "traceback": [
            "\u001b[0;31m---------------------------------------------------------------------------\u001b[0m",
            "\u001b[0;31mNameError\u001b[0m                                 Traceback (most recent call last)",
            "\u001b[0;32m<ipython-input-7-ce2354b22f5f>\u001b[0m in \u001b[0;36m<cell line: 5>\u001b[0;34m()\u001b[0m\n\u001b[1;32m     10\u001b[0m     \u001b[0mmax_bid\u001b[0m\u001b[0;34m=\u001b[0m\u001b[0mbid\u001b[0m\u001b[0;34m\u001b[0m\u001b[0;34m\u001b[0m\u001b[0m\n\u001b[1;32m     11\u001b[0m     \u001b[0mwinner\u001b[0m\u001b[0;34m=\u001b[0m\u001b[0mname\u001b[0m\u001b[0;34m\u001b[0m\u001b[0;34m\u001b[0m\u001b[0m\n\u001b[0;32m---> 12\u001b[0;31m   \u001b[0mclear\u001b[0m\u001b[0;34m(\u001b[0m\u001b[0;34m)\u001b[0m\u001b[0;34m\u001b[0m\u001b[0;34m\u001b[0m\u001b[0m\n\u001b[0m\u001b[1;32m     13\u001b[0m   \u001b[0mgame\u001b[0m\u001b[0;34m=\u001b[0m\u001b[0minput\u001b[0m\u001b[0;34m(\u001b[0m\u001b[0;34m\"are there any other bidders? type yes or no.\"\u001b[0m\u001b[0;34m)\u001b[0m\u001b[0;34m\u001b[0m\u001b[0;34m\u001b[0m\u001b[0m\n\u001b[1;32m     14\u001b[0m \u001b[0mprint\u001b[0m\u001b[0;34m(\u001b[0m\u001b[0;34m\"game close\"\u001b[0m\u001b[0;34m)\u001b[0m\u001b[0;34m\u001b[0m\u001b[0;34m\u001b[0m\u001b[0m\n",
            "\u001b[0;31mNameError\u001b[0m: name 'clear' is not defined"
          ]
        }
      ],
      "source": [
        "print(\"welcome to the secret auction program\")\n",
        "bid_details={}\n",
        "max_bid=0\n",
        "game=input(\"are there any other bidders? type yes or no.\")\n",
        "while(game==\"yes\"):\n",
        "  name=input(\"what is your name:\")\n",
        "  bid=int(input(\"what is your bid:\"))\n",
        "  bid_details[name]=bid\n",
        "  if(bid>max_bid):\n",
        "    max_bid=bid\n",
        "    winner=name\n",
        "  clear()\n",
        "  game=input(\"are there any other bidders? type yes or no.\")\n",
        "print(\"game close\")\n",
        "print(bid_details)\n",
        "print(f\"the winner is {winner} with a bid of {max_bid}\")"
      ]
    },
    {
      "cell_type": "code",
      "execution_count": null,
      "metadata": {
        "colab": {
          "base_uri": "https://localhost:8080/",
          "height": 200
        },
        "id": "0ZTvRpRBtAYS",
        "outputId": "9575b79d-4b3a-4527-f074-6a4a28cf83d4"
      },
      "outputs": [
        {
          "ename": "NameError",
          "evalue": "name 'Ashan' is not defined",
          "output_type": "error",
          "traceback": [
            "\u001b[0;31m---------------------------------------------------------------------------\u001b[0m",
            "\u001b[0;31mNameError\u001b[0m                                 Traceback (most recent call last)",
            "\u001b[0;32m<ipython-input-6-9976136c96d6>\u001b[0m in \u001b[0;36m<cell line: 7>\u001b[0;34m()\u001b[0m\n\u001b[1;32m      5\u001b[0m \u001b[0;34m\u001b[0m\u001b[0m\n\u001b[1;32m      6\u001b[0m \u001b[0;34m\u001b[0m\u001b[0m\n\u001b[0;32m----> 7\u001b[0;31m \u001b[0mfull_name\u001b[0m\u001b[0;34m(\u001b[0m\u001b[0mAshan\u001b[0m\u001b[0;34m,\u001b[0m\u001b[0mLokuge\u001b[0m\u001b[0;34m)\u001b[0m\u001b[0;34m\u001b[0m\u001b[0;34m\u001b[0m\u001b[0m\n\u001b[0m\u001b[1;32m      8\u001b[0m \u001b[0;34m\u001b[0m\u001b[0m\n",
            "\u001b[0;31mNameError\u001b[0m: name 'Ashan' is not defined"
          ]
        }
      ],
      "source": [
        "def full_name(f_name,l_name):\n",
        "  f_n_name=f_name[0].upper()+f_name[1:].lower()\n",
        "  l_n_name=l_name[0].upper()+l_name[1:].lower()\n",
        "  return (f\"{f_n_name} {l_n_name}\")\n",
        "\n",
        "\n",
        "\n"
      ]
    },
    {
      "cell_type": "code",
      "execution_count": null,
      "metadata": {
        "colab": {
          "base_uri": "https://localhost:8080/",
          "height": 36
        },
        "id": "_K6PubOnvvFF",
        "outputId": "6cb7e82c-835b-45dd-d72b-e6371afe7657"
      },
      "outputs": [
        {
          "data": {
            "application/vnd.google.colaboratory.intrinsic+json": {
              "type": "string"
            },
            "text/plain": [
              "'Ashan  Lokuge'"
            ]
          },
          "execution_count": 9,
          "metadata": {},
          "output_type": "execute_result"
        }
      ],
      "source": [
        "full_name(\"aSHAN \",\"lOKUGE\")\n"
      ]
    },
    {
      "cell_type": "markdown",
      "metadata": {
        "id": "Nxi83XmbxJNg"
      },
      "source": [
        "SIMPLE METHOD OF TITLE CASE STRING"
      ]
    },
    {
      "cell_type": "code",
      "execution_count": null,
      "metadata": {
        "colab": {
          "base_uri": "https://localhost:8080/",
          "height": 36
        },
        "id": "H3Ah6Bf6xISj",
        "outputId": "de88c739-f9d2-49ed-f2fb-d17c5b1f06d0"
      },
      "outputs": [
        {
          "data": {
            "application/vnd.google.colaboratory.intrinsic+json": {
              "type": "string"
            },
            "text/plain": [
              "'this is our \\nfirst comment\\nnew line'"
            ]
          },
          "execution_count": 2,
          "metadata": {},
          "output_type": "execute_result"
        }
      ],
      "source": [
        "def full_name(f_name,l_name):\n",
        "  \"\"\"enter your first name and last name\"\"\"\n",
        "  if f_name==\" \" or l_name==\"\":\n",
        "    return \"you didn't provide valid inputs\"\n",
        "  new_f=f_name.title()\n",
        "  last_f=l_name.title()\n",
        "  return(f\"{new_f} {last_f}\")\n",
        "\n",
        "\"\"\"this is our\n",
        "first comment\n",
        "new line\"\"\"\n",
        "\n"
      ]
    },
    {
      "cell_type": "code",
      "execution_count": null,
      "metadata": {
        "colab": {
          "base_uri": "https://localhost:8080/",
          "height": 36
        },
        "id": "HixU7o4xxrdM",
        "outputId": "30214074-ff02-4ff7-e432-e6c4b267e5eb"
      },
      "outputs": [
        {
          "data": {
            "application/vnd.google.colaboratory.intrinsic+json": {
              "type": "string"
            },
            "text/plain": [
              "'Ashan Lokuge'"
            ]
          },
          "execution_count": 15,
          "metadata": {},
          "output_type": "execute_result"
        }
      ],
      "source": [
        "full_name()"
      ]
    },
    {
      "cell_type": "code",
      "execution_count": null,
      "metadata": {
        "colab": {
          "base_uri": "https://localhost:8080/",
          "height": 72
        },
        "id": "qlF3sP68yQEj",
        "outputId": "bea7b422-aed3-45e2-8f67-ac68b911e6b6"
      },
      "outputs": [
        {
          "name": "stdout",
          "output_type": "stream",
          "text": [
            "enter your first nameimesh\n",
            "enter your second nameashan\n"
          ]
        },
        {
          "data": {
            "application/vnd.google.colaboratory.intrinsic+json": {
              "type": "string"
            },
            "text/plain": [
              "'Imesh Ashan'"
            ]
          },
          "execution_count": 33,
          "metadata": {},
          "output_type": "execute_result"
        }
      ],
      "source": [
        "(full_name(input(\"enter your first name\"),input(\"enter your second name\")))"
      ]
    },
    {
      "cell_type": "markdown",
      "metadata": {
        "id": "nw_z9HdG6c87"
      },
      "source": [
        "Find the Is Leap Year and get the number of dates"
      ]
    },
    {
      "cell_type": "markdown",
      "metadata": {
        "id": "kic_E3hC6kGt"
      },
      "source": []
    },
    {
      "cell_type": "code",
      "execution_count": null,
      "metadata": {
        "id": "N0wg32fV5neO"
      },
      "outputs": [],
      "source": [
        "def is_leap(year):\n",
        "  if(year%4==0):\n",
        "    if(year%100==0):\n",
        "      if(year%400==0):\n",
        "        return True\n",
        "      else:\n",
        "        return False\n",
        "    else:\n",
        "      return True\n",
        "  else:\n",
        "    return False"
      ]
    },
    {
      "cell_type": "code",
      "execution_count": null,
      "metadata": {
        "colab": {
          "base_uri": "https://localhost:8080/"
        },
        "id": "-O2l8QcOPXIY",
        "outputId": "cb140dab-2d1d-4239-83bf-7347096a2466"
      },
      "outputs": [
        {
          "data": {
            "text/plain": [
              "False"
            ]
          },
          "execution_count": 4,
          "metadata": {},
          "output_type": "execute_result"
        }
      ],
      "source": [
        "is_leap(2022)"
      ]
    },
    {
      "cell_type": "code",
      "execution_count": null,
      "metadata": {
        "id": "brEn3flsQ1yt"
      },
      "outputs": [],
      "source": [
        "def days_in_month(year,month):\n",
        "  month_days=[31,28,31,30,31,30,31,31,30,31,30,31]\n",
        "  if is_leap(year)==True:\n",
        "     if month==2:\n",
        "      return 29\n",
        "     else:\n",
        "      return month_days[month-1]\n",
        "  else:\n",
        "    return month_days[month-1]"
      ]
    },
    {
      "cell_type": "code",
      "execution_count": null,
      "metadata": {
        "colab": {
          "base_uri": "https://localhost:8080/"
        },
        "id": "uzhvNJrLShWO",
        "outputId": "f5ca7b48-5599-479d-e3f8-e9991e342bcd"
      },
      "outputs": [
        {
          "data": {
            "text/plain": [
              "28"
            ]
          },
          "execution_count": 9,
          "metadata": {},
          "output_type": "execute_result"
        }
      ],
      "source": [
        "days_in_month(1990,2)"
      ]
    },
    {
      "cell_type": "markdown",
      "metadata": {
        "id": "3j_HC_7pm_Gh"
      },
      "source": [
        "**Building Calculator**"
      ]
    },
    {
      "cell_type": "code",
      "execution_count": null,
      "metadata": {
        "colab": {
          "background_save": true,
          "base_uri": "https://localhost:8080/"
        },
        "id": "NsXT1NA_nAIy",
        "outputId": "f65dd185-658d-414e-b268-8a7b609eb359"
      },
      "outputs": [
        {
          "name": "stdout",
          "output_type": "stream",
          "text": [
            "Requirement already satisfied: art in /usr/local/lib/python3.10/dist-packages (6.4)\n",
            "              _               _         _                \n",
            "  ___   __ _ | |  ___  _   _ | |  __ _ | |_   ___   _ __ \n",
            " / __| / _` || | / __|| | | || | / _` || __| / _ \\ | '__|\n",
            "| (__ | (_| || || (__ | |_| || || (_| || |_ | (_) || |   \n",
            " \\___| \\__,_||_| \\___| \\__,_||_| \\__,_| \\__| \\___/ |_|   \n",
            "                                                         \n",
            "\n",
            "+\n",
            "-\n",
            "*\n",
            "/\n",
            "15.0 + 45.0 = 60.0\n",
            "60.0 - 12.0 = 48.0\n",
            "              _               _         _                \n",
            "  ___   __ _ | |  ___  _   _ | |  __ _ | |_   ___   _ __ \n",
            " / __| / _` || | / __|| | | || | / _` || __| / _ \\ | '__|\n",
            "| (__ | (_| || || (__ | |_| || || (_| || |_ | (_) || |   \n",
            " \\___| \\__,_||_| \\___| \\__,_||_| \\__,_| \\__| \\___/ |_|   \n",
            "                                                         \n",
            "\n"
          ]
        }
      ],
      "source": [
        "!pip install art\n",
        "\n",
        "from art import text2art\n",
        "\n",
        "logo = text2art(\"calculator\")  # Replace \"My Logo\" with your desired text\n",
        "\n",
        "\n",
        "\n",
        "\n",
        "def add(num1,num2):\n",
        "  return num1+num2\n",
        "\n",
        "def substract(num1,num2):\n",
        "  return num1-num2\n",
        "\n",
        "def multiply(num1,num2):\n",
        "  return num1*num2\n",
        "\n",
        "def divide(num1,num2):\n",
        "  return num1/num2\n",
        "\n",
        "operations={\n",
        "              \"+\":add,\n",
        "              \"-\":substract,\n",
        "              \"*\":multiply,\n",
        "              \"/\":divide\n",
        "          }\n",
        "def calculator():\n",
        "  print(logo)\n",
        "  num1=float(input(\"enter your first number\"))\n",
        "  for x in operations:\n",
        "    print(x)\n",
        "  should_continue= True\n",
        "\n",
        "  while should_continue:\n",
        "    operation_symbol=input(\"pick an operation symbol\")\n",
        "    num2=float(input(\"enter your second number\"))\n",
        "    function=operations[operation_symbol]\n",
        "    answer=function(num1,num2)\n",
        "    print(f\"{num1} {operation_symbol} {num2} = {answer}\")\n",
        "\n",
        "    if input(f\"type 'y' to continue calculating with {answer} or type 'n' to start a new calcution\")=='y':\n",
        "      num1=answer\n",
        "    else:\n",
        "      should_continue=False\n",
        "      calculator()\n",
        "calculator()"
      ]
    },
    {
      "cell_type": "code",
      "source": [
        "from turtle import Turtle,Screen\n",
        "\n",
        "timy = Turtle()\n",
        "print(timy)\n",
        "timy.shape(\"turtle\")\n",
        "timy.color(\"red\")\n",
        "timy.forward(25)\n",
        "\n",
        "my_screen=Screen()\n",
        "print(my_screen.canvheight)\n",
        "my_screen.exitonclick()\n",
        "\n",
        "from prettytable import PrettyTable\n",
        "table = PrettyTable()\n",
        "table.add_column(\"Pokeman Name\",[\"imesh\",\"Ashan\",\"kusal\"])\n",
        "table.add_column(\"age\",[22,10,25])\n",
        "table.align=\"l\"\n",
        "print(table)"
      ],
      "metadata": {
        "colab": {
          "base_uri": "https://localhost:8080/",
          "height": 368
        },
        "id": "atG6e4XRLAEk",
        "outputId": "baa97c77-4d78-4f8a-cab1-1df44138a24c"
      },
      "execution_count": null,
      "outputs": [
        {
          "output_type": "error",
          "ename": "TclError",
          "evalue": "no display name and no $DISPLAY environment variable",
          "traceback": [
            "\u001b[0;31m---------------------------------------------------------------------------\u001b[0m",
            "\u001b[0;31mTclError\u001b[0m                                  Traceback (most recent call last)",
            "\u001b[0;32m<ipython-input-6-05c652c2366b>\u001b[0m in \u001b[0;36m<cell line: 2>\u001b[0;34m()\u001b[0m\n\u001b[1;32m      1\u001b[0m \u001b[0;32mfrom\u001b[0m \u001b[0mturtle\u001b[0m \u001b[0;32mimport\u001b[0m \u001b[0mTurtle\u001b[0m\u001b[0;34m,\u001b[0m\u001b[0mScreen\u001b[0m\u001b[0;34m\u001b[0m\u001b[0;34m\u001b[0m\u001b[0m\n\u001b[0;32m----> 2\u001b[0;31m \u001b[0mtimmy\u001b[0m\u001b[0;34m=\u001b[0m \u001b[0mTurtle\u001b[0m\u001b[0;34m(\u001b[0m\u001b[0;34m)\u001b[0m\u001b[0;34m\u001b[0m\u001b[0;34m\u001b[0m\u001b[0m\n\u001b[0m\u001b[1;32m      3\u001b[0m \u001b[0mprint\u001b[0m\u001b[0;34m(\u001b[0m\u001b[0mtimmy\u001b[0m\u001b[0;34m)\u001b[0m\u001b[0;34m\u001b[0m\u001b[0;34m\u001b[0m\u001b[0m\n\u001b[1;32m      4\u001b[0m \u001b[0;34m\u001b[0m\u001b[0m\n\u001b[1;32m      5\u001b[0m \u001b[0mmy_screen\u001b[0m\u001b[0;34m=\u001b[0m\u001b[0mScreen\u001b[0m\u001b[0;34m(\u001b[0m\u001b[0;34m)\u001b[0m\u001b[0;34m\u001b[0m\u001b[0;34m\u001b[0m\u001b[0m\n",
            "\u001b[0;32m/usr/lib/python3.10/turtle.py\u001b[0m in \u001b[0;36m__init__\u001b[0;34m(self, shape, undobuffersize, visible)\u001b[0m\n\u001b[1;32m   3812\u001b[0m                  visible=_CFG[\"visible\"]):\n\u001b[1;32m   3813\u001b[0m         \u001b[0;32mif\u001b[0m \u001b[0mTurtle\u001b[0m\u001b[0;34m.\u001b[0m\u001b[0m_screen\u001b[0m \u001b[0;32mis\u001b[0m \u001b[0;32mNone\u001b[0m\u001b[0;34m:\u001b[0m\u001b[0;34m\u001b[0m\u001b[0;34m\u001b[0m\u001b[0m\n\u001b[0;32m-> 3814\u001b[0;31m             \u001b[0mTurtle\u001b[0m\u001b[0;34m.\u001b[0m\u001b[0m_screen\u001b[0m \u001b[0;34m=\u001b[0m \u001b[0mScreen\u001b[0m\u001b[0;34m(\u001b[0m\u001b[0;34m)\u001b[0m\u001b[0;34m\u001b[0m\u001b[0;34m\u001b[0m\u001b[0m\n\u001b[0m\u001b[1;32m   3815\u001b[0m         RawTurtle.__init__(self, Turtle._screen,\n\u001b[1;32m   3816\u001b[0m                            \u001b[0mshape\u001b[0m\u001b[0;34m=\u001b[0m\u001b[0mshape\u001b[0m\u001b[0;34m,\u001b[0m\u001b[0;34m\u001b[0m\u001b[0;34m\u001b[0m\u001b[0m\n",
            "\u001b[0;32m/usr/lib/python3.10/turtle.py\u001b[0m in \u001b[0;36mScreen\u001b[0;34m()\u001b[0m\n\u001b[1;32m   3662\u001b[0m     else return the existing one.\"\"\"\n\u001b[1;32m   3663\u001b[0m     \u001b[0;32mif\u001b[0m \u001b[0mTurtle\u001b[0m\u001b[0;34m.\u001b[0m\u001b[0m_screen\u001b[0m \u001b[0;32mis\u001b[0m \u001b[0;32mNone\u001b[0m\u001b[0;34m:\u001b[0m\u001b[0;34m\u001b[0m\u001b[0;34m\u001b[0m\u001b[0m\n\u001b[0;32m-> 3664\u001b[0;31m         \u001b[0mTurtle\u001b[0m\u001b[0;34m.\u001b[0m\u001b[0m_screen\u001b[0m \u001b[0;34m=\u001b[0m \u001b[0m_Screen\u001b[0m\u001b[0;34m(\u001b[0m\u001b[0;34m)\u001b[0m\u001b[0;34m\u001b[0m\u001b[0;34m\u001b[0m\u001b[0m\n\u001b[0m\u001b[1;32m   3665\u001b[0m     \u001b[0;32mreturn\u001b[0m \u001b[0mTurtle\u001b[0m\u001b[0;34m.\u001b[0m\u001b[0m_screen\u001b[0m\u001b[0;34m\u001b[0m\u001b[0;34m\u001b[0m\u001b[0m\n\u001b[1;32m   3666\u001b[0m \u001b[0;34m\u001b[0m\u001b[0m\n",
            "\u001b[0;32m/usr/lib/python3.10/turtle.py\u001b[0m in \u001b[0;36m__init__\u001b[0;34m(self)\u001b[0m\n\u001b[1;32m   3678\u001b[0m         \u001b[0;31m# preserved (perhaps by passing it as an optional parameter)\u001b[0m\u001b[0;34m\u001b[0m\u001b[0;34m\u001b[0m\u001b[0m\n\u001b[1;32m   3679\u001b[0m         \u001b[0;32mif\u001b[0m \u001b[0m_Screen\u001b[0m\u001b[0;34m.\u001b[0m\u001b[0m_root\u001b[0m \u001b[0;32mis\u001b[0m \u001b[0;32mNone\u001b[0m\u001b[0;34m:\u001b[0m\u001b[0;34m\u001b[0m\u001b[0;34m\u001b[0m\u001b[0m\n\u001b[0;32m-> 3680\u001b[0;31m             \u001b[0m_Screen\u001b[0m\u001b[0;34m.\u001b[0m\u001b[0m_root\u001b[0m \u001b[0;34m=\u001b[0m \u001b[0mself\u001b[0m\u001b[0;34m.\u001b[0m\u001b[0m_root\u001b[0m \u001b[0;34m=\u001b[0m \u001b[0m_Root\u001b[0m\u001b[0;34m(\u001b[0m\u001b[0;34m)\u001b[0m\u001b[0;34m\u001b[0m\u001b[0;34m\u001b[0m\u001b[0m\n\u001b[0m\u001b[1;32m   3681\u001b[0m             \u001b[0mself\u001b[0m\u001b[0;34m.\u001b[0m\u001b[0m_root\u001b[0m\u001b[0;34m.\u001b[0m\u001b[0mtitle\u001b[0m\u001b[0;34m(\u001b[0m\u001b[0m_Screen\u001b[0m\u001b[0;34m.\u001b[0m\u001b[0m_title\u001b[0m\u001b[0;34m)\u001b[0m\u001b[0;34m\u001b[0m\u001b[0;34m\u001b[0m\u001b[0m\n\u001b[1;32m   3682\u001b[0m             \u001b[0mself\u001b[0m\u001b[0;34m.\u001b[0m\u001b[0m_root\u001b[0m\u001b[0;34m.\u001b[0m\u001b[0mondestroy\u001b[0m\u001b[0;34m(\u001b[0m\u001b[0mself\u001b[0m\u001b[0;34m.\u001b[0m\u001b[0m_destroy\u001b[0m\u001b[0;34m)\u001b[0m\u001b[0;34m\u001b[0m\u001b[0;34m\u001b[0m\u001b[0m\n",
            "\u001b[0;32m/usr/lib/python3.10/turtle.py\u001b[0m in \u001b[0;36m__init__\u001b[0;34m(self)\u001b[0m\n\u001b[1;32m    433\u001b[0m     \u001b[0;34m\"\"\"Root class for Screen based on Tkinter.\"\"\"\u001b[0m\u001b[0;34m\u001b[0m\u001b[0;34m\u001b[0m\u001b[0m\n\u001b[1;32m    434\u001b[0m     \u001b[0;32mdef\u001b[0m \u001b[0m__init__\u001b[0m\u001b[0;34m(\u001b[0m\u001b[0mself\u001b[0m\u001b[0;34m)\u001b[0m\u001b[0;34m:\u001b[0m\u001b[0;34m\u001b[0m\u001b[0;34m\u001b[0m\u001b[0m\n\u001b[0;32m--> 435\u001b[0;31m         \u001b[0mTK\u001b[0m\u001b[0;34m.\u001b[0m\u001b[0mTk\u001b[0m\u001b[0;34m.\u001b[0m\u001b[0m__init__\u001b[0m\u001b[0;34m(\u001b[0m\u001b[0mself\u001b[0m\u001b[0;34m)\u001b[0m\u001b[0;34m\u001b[0m\u001b[0;34m\u001b[0m\u001b[0m\n\u001b[0m\u001b[1;32m    436\u001b[0m \u001b[0;34m\u001b[0m\u001b[0m\n\u001b[1;32m    437\u001b[0m     \u001b[0;32mdef\u001b[0m \u001b[0msetupcanvas\u001b[0m\u001b[0;34m(\u001b[0m\u001b[0mself\u001b[0m\u001b[0;34m,\u001b[0m \u001b[0mwidth\u001b[0m\u001b[0;34m,\u001b[0m \u001b[0mheight\u001b[0m\u001b[0;34m,\u001b[0m \u001b[0mcwidth\u001b[0m\u001b[0;34m,\u001b[0m \u001b[0mcheight\u001b[0m\u001b[0;34m)\u001b[0m\u001b[0;34m:\u001b[0m\u001b[0;34m\u001b[0m\u001b[0;34m\u001b[0m\u001b[0m\n",
            "\u001b[0;32m/usr/lib/python3.10/tkinter/__init__.py\u001b[0m in \u001b[0;36m__init__\u001b[0;34m(self, screenName, baseName, className, useTk, sync, use)\u001b[0m\n\u001b[1;32m   2297\u001b[0m                 \u001b[0mbaseName\u001b[0m \u001b[0;34m=\u001b[0m \u001b[0mbaseName\u001b[0m \u001b[0;34m+\u001b[0m \u001b[0mext\u001b[0m\u001b[0;34m\u001b[0m\u001b[0;34m\u001b[0m\u001b[0m\n\u001b[1;32m   2298\u001b[0m         \u001b[0minteractive\u001b[0m \u001b[0;34m=\u001b[0m \u001b[0;32mFalse\u001b[0m\u001b[0;34m\u001b[0m\u001b[0;34m\u001b[0m\u001b[0m\n\u001b[0;32m-> 2299\u001b[0;31m         \u001b[0mself\u001b[0m\u001b[0;34m.\u001b[0m\u001b[0mtk\u001b[0m \u001b[0;34m=\u001b[0m \u001b[0m_tkinter\u001b[0m\u001b[0;34m.\u001b[0m\u001b[0mcreate\u001b[0m\u001b[0;34m(\u001b[0m\u001b[0mscreenName\u001b[0m\u001b[0;34m,\u001b[0m \u001b[0mbaseName\u001b[0m\u001b[0;34m,\u001b[0m \u001b[0mclassName\u001b[0m\u001b[0;34m,\u001b[0m \u001b[0minteractive\u001b[0m\u001b[0;34m,\u001b[0m \u001b[0mwantobjects\u001b[0m\u001b[0;34m,\u001b[0m \u001b[0museTk\u001b[0m\u001b[0;34m,\u001b[0m \u001b[0msync\u001b[0m\u001b[0;34m,\u001b[0m \u001b[0muse\u001b[0m\u001b[0;34m)\u001b[0m\u001b[0;34m\u001b[0m\u001b[0;34m\u001b[0m\u001b[0m\n\u001b[0m\u001b[1;32m   2300\u001b[0m         \u001b[0;32mif\u001b[0m \u001b[0museTk\u001b[0m\u001b[0;34m:\u001b[0m\u001b[0;34m\u001b[0m\u001b[0;34m\u001b[0m\u001b[0m\n\u001b[1;32m   2301\u001b[0m             \u001b[0mself\u001b[0m\u001b[0;34m.\u001b[0m\u001b[0m_loadtk\u001b[0m\u001b[0;34m(\u001b[0m\u001b[0;34m)\u001b[0m\u001b[0;34m\u001b[0m\u001b[0;34m\u001b[0m\u001b[0m\n",
            "\u001b[0;31mTclError\u001b[0m: no display name and no $DISPLAY environment variable"
          ]
        }
      ]
    },
    {
      "cell_type": "code",
      "source": [
        "numbers={}"
      ],
      "metadata": {
        "id": "K_BYL5n02-bz"
      },
      "execution_count": null,
      "outputs": []
    },
    {
      "cell_type": "code",
      "source": [
        "a1=[]\n",
        "b1=[]\n",
        "c1=[]\n",
        "i=0\n",
        "\n",
        "for x in range(51,61):\n",
        "    a1.append(x)\n",
        "print(a1)\n",
        "for x in range(61,71):\n",
        "    b1.append(x)\n",
        "print(b1)\n",
        "for x in range(71,81):\n",
        "    c1.append(x)\n",
        "print(c1)\n",
        "dic={\n",
        "    \"a1\":a1,\n",
        "    \"b1\":b1,\n",
        "    \"c1\":c1\n",
        "}\n",
        "print(dic[\"a1\"][2])\n",
        "print(dic[\"b1\"][2])\n",
        "print(dic[\"c1\"][2])\n"
      ],
      "metadata": {
        "id": "MLSh82Glwkpf"
      },
      "execution_count": null,
      "outputs": []
    },
    {
      "cell_type": "code",
      "source": [
        "\n",
        "n=5\n",
        "for x in range(1,n+1,+1):\n",
        "    print(\"*\"*x)\n",
        "for x  in range(n-1,0,-1):\n",
        "    print(\"*\"*x)"
      ],
      "metadata": {
        "id": "ZljCTp7kM9GH"
      },
      "execution_count": null,
      "outputs": []
    }
  ],
  "metadata": {
    "colab": {
      "provenance": [],
      "authorship_tag": "ABX9TyPitibOWIURG+Jw7cVP22Kv",
      "include_colab_link": true
    },
    "kernelspec": {
      "display_name": "Python 3",
      "name": "python3"
    },
    "language_info": {
      "name": "python"
    }
  },
  "nbformat": 4,
  "nbformat_minor": 0
}